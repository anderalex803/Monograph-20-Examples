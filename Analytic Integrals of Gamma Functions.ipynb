{
 "cells": [
  {
   "cell_type": "markdown",
   "metadata": {},
   "source": [
    "**This workbook demonstrates the application of a simple Gamma distribution to evaluating molar fractions and average MW's over a range of defined LMW's, using an analytical form of the integrated Gamma and mass weighted Gamma distribution"
   ]
  },
  {
   "cell_type": "code",
   "execution_count": 1,
   "metadata": {
    "ExecuteTime": {
     "end_time": "2019-06-11T22:01:23.793957Z",
     "start_time": "2019-06-11T22:01:17.132693Z"
    }
   },
   "outputs": [],
   "source": [
    "import scipy as scipy\n",
    "from scipy.special import gamma\n",
    "import math"
   ]
  },
  {
   "cell_type": "code",
   "execution_count": 26,
   "metadata": {
    "ExecuteTime": {
     "end_time": "2019-06-11T22:50:27.866587Z",
     "start_time": "2019-06-11T22:50:27.850592Z"
    }
   },
   "outputs": [],
   "source": [
    "# Incomplete gamma function as evaluated by Wolfram - differs from native scipy gammainc(a,x)\n",
    "# Test is incomp_gamma(0.01,0.1) = 1.803241356902546, which is same as https://www.wolframalpha.com/input/?i=gamma(0.01,0.1)\n",
    "def incomp_gamma(a,x):\n",
    "    return gamma(a)*(1 - scipy.special.gammainc(a,x))\n",
    "\n",
    "# Following equation references from \"C7+ Characterization of Related Equilibrium Fluids Using the Gamma Distribution\"\n",
    "# By Whitson, Anderson and Soreide\n",
    "\n",
    "# Calculating the probability and cumulative probability density function\n",
    "# Probability density function - Eq 1.\n",
    "def pM(M, eta, alpha, beta, precalc_gamma):\n",
    "    return (M - eta)**(alpha-1)*math.exp(-(M-eta)/beta)/(beta**alpha*precalc_gamma)\n",
    "\n",
    "def Cum_pM(LMW, eta, alpha, plus_MW):\n",
    "    # Returns analytcally integrated the pM fuction between eta on the lower side, to M on the high side\n",
    "    # https://www.wolframalpha.com/input/?i=integrate+(x-a)%5Eb*exp(-(x-a)%2Fc)%2Fd\n",
    "    beta = (plus_MW - eta)/alpha\n",
    "    \n",
    "    if LMW <= eta:\n",
    "        return 0\n",
    "    a = eta\n",
    "    b = alpha-1\n",
    "    c = beta\n",
    "    d = beta**alpha*scipy.special.gamma(alpha)\n",
    "    return 1-c*(LMW-a)**b*((LMW-a)/c)**-b*incomp_gamma(b+1,(LMW-a)/c)/d\n",
    "\n",
    "# And now the mass weighted probability and cumulative mass weighted probability density functions \n",
    "\n",
    "# Mass weighted Probability density function.\n",
    "def pMM(M, eta, alpha, beta, precalc_gamma):\n",
    "    return M*(M - eta)**(alpha-1)*math.exp(-(M-eta)/beta)/(beta**alpha*precalc_gamma)\n",
    "\n",
    "def Cum_pMM(LMW, eta, alpha, plus_MW):\n",
    "    # Analytically integrates the pMM fuction between eta on the lower side, to LMW on the high side\n",
    "    #https://www.wolframalpha.com/input/?i=integrate+(x-a)%5Eb*exp(-(x-a)%2Fc)*x%2Fd\n",
    "    beta = (plus_MW - eta)/alpha\n",
    "    \n",
    "    if LMW <= eta:\n",
    "        return 0\n",
    "    x = LMW\n",
    "    a = eta\n",
    "    b = alpha-1\n",
    "    c = beta\n",
    "    d = beta**alpha*scipy.special.gamma(alpha)\n",
    "    return beta*alpha+eta-((c*(x - a)**b * (a* incomp_gamma(1 + b, ( x-a )/c) + c* incomp_gamma(2 + b, (-a + x)/c)))/(d* ((x-a)/c)**b))"
   ]
  },
  {
   "cell_type": "code",
   "execution_count": 45,
   "metadata": {
    "ExecuteTime": {
     "end_time": "2019-06-11T23:11:13.156655Z",
     "start_time": "2019-06-11T23:11:13.140659Z"
    }
   },
   "outputs": [
    {
     "name": "stdout",
     "output_type": "stream",
     "text": [
      "Comp,  Mole Frac,   Avg MW,   Mass\n",
      "0       0.1629 ,   94.2117 ,   15.3461\n",
      "1       0.1446 ,   107.0631 ,   15.4777\n",
      "2       0.1084 ,   122.1977 ,   13.2413\n",
      "3       0.0868 ,   137.2445 ,   11.9137\n",
      "4       0.0715 ,   152.2686 ,   10.883\n",
      "5       0.0597 ,   167.2832 ,   9.995\n",
      "6       0.0177 ,   177.4767 ,   3.1502\n",
      "7       0.0477 ,   187.2957 ,   8.9418\n",
      "8       0.0406 ,   202.3021 ,   8.2227\n",
      "9       0.0348 ,   217.307 ,   7.5539\n",
      "10       0.2253 ,   334.1699 ,   75.2746\n",
      " \n",
      "Total:    1.0 ,         -       , 180.0\n"
     ]
    }
   ],
   "source": [
    "# And now test the code with a simple Gamma distribution\n",
    "\n",
    "eta = 90\n",
    "alpha = 0.75\n",
    "plus_MW = 180\n",
    "# Define a list of LMW's\n",
    "LMW = [100, 115, 130, 145, 160, 175, 180, 195, 210, 225]\n",
    "\n",
    "# Calculate the cumulative probability and mass weighted probability\n",
    "cum_prob = [0]\n",
    "cum_mass_prob = [0]\n",
    "for M in LMW:\n",
    "    cum_prob.append(Cum_pM(M, eta, alpha, plus_MW))\n",
    "    cum_mass_prob.append(Cum_pMM(M, eta, alpha, plus_MW))\n",
    "cum_prob.append(1)\n",
    "cum_mass_prob.append(plus_MW)\n",
    "\n",
    "# Calculate incremental molar fraction by subtracting previous values\n",
    "Molar_frac = [cum_prob[i]-cum_prob[i-1] for i in range(1,len(cum_prob))]\n",
    "\n",
    "# And average MW's in the LMW bins\n",
    "Avg_MWs = [(cum_mass_prob[i]-cum_mass_prob[i-1])/Molar_frac[i-1] for i in range(1,len(cum_prob))]\n",
    "\n",
    "sum_mass = 0\n",
    "# Check total mole weighted masses add to target C7+ MW\n",
    "for i in range(len(Molar_frac)):\n",
    "    sum_mass += Molar_frac[i]*Avg_MWs[i]\n",
    "    \n",
    "print('Comp,  Mole Frac,   Avg MW,   Mass')\n",
    "for i in range(len(Molar_frac)):\n",
    "    print(i,'     ',round(Molar_frac[i],4),',  ',round(Avg_MWs[i],4),',  ', round(Molar_frac[i]*Avg_MWs[i],4) )\n",
    "\n",
    "print(' ')\n",
    "print('Total:   ',sum(Molar_frac),',         -       ,',sum_mass)"
   ]
  },
  {
   "cell_type": "code",
   "execution_count": null,
   "metadata": {},
   "outputs": [],
   "source": []
  }
 ],
 "metadata": {
  "kernelspec": {
   "display_name": "Python 3",
   "language": "python",
   "name": "python3"
  },
  "language_info": {
   "codemirror_mode": {
    "name": "ipython",
    "version": 3
   },
   "file_extension": ".py",
   "mimetype": "text/x-python",
   "name": "python",
   "nbconvert_exporter": "python",
   "pygments_lexer": "ipython3",
   "version": "3.7.2"
  },
  "varInspector": {
   "cols": {
    "lenName": 16,
    "lenType": 16,
    "lenVar": 40
   },
   "kernels_config": {
    "python": {
     "delete_cmd_postfix": "",
     "delete_cmd_prefix": "del ",
     "library": "var_list.py",
     "varRefreshCmd": "print(var_dic_list())"
    },
    "r": {
     "delete_cmd_postfix": ") ",
     "delete_cmd_prefix": "rm(",
     "library": "var_list.r",
     "varRefreshCmd": "cat(var_dic_list()) "
    }
   },
   "types_to_exclude": [
    "module",
    "function",
    "builtin_function_or_method",
    "instance",
    "_Feature"
   ],
   "window_display": false
  }
 },
 "nbformat": 4,
 "nbformat_minor": 2
}
